{
 "cells": [
  {
   "cell_type": "markdown",
   "metadata": {},
   "source": [
    "### Simply Implementation of Rotary Positional Embedding"
   ]
  },
  {
   "cell_type": "code",
   "execution_count": 49,
   "metadata": {},
   "outputs": [],
   "source": [
    "import torch"
   ]
  },
  {
   "cell_type": "code",
   "execution_count": 50,
   "metadata": {},
   "outputs": [],
   "source": [
    "def init_sinusoidal_positional_embedding(seq_len: int,\n",
    "                                         hidden_size: int,\n",
    "                                         base: int=10000,\n",
    "                                         ):\n",
    "    position = torch.arange(seq_len).unsqueeze(1)  # Shape: [seq_len, 1]\n",
    "    div_term = torch.exp(torch.arange(0, hidden_size, 2) * -(torch.log(torch.tensor(base)) / hidden_size)) # Shape: hidden_size//2\n",
    "    # Apply sin to even indices, cos to odd indices\n",
    "    pos_embedding = torch.zeros(seq_len, hidden_size)\n",
    "    pos_embedding[:, 0::2] = torch.sin(position * div_term)  # even indices\n",
    "    pos_embedding[:, 1::2] = torch.cos(position * div_term)  # odd indices\n",
    "    return pos_embedding.unsqueeze(0)  # Shape: [1,seq_len, hidden_size]"
   ]
  },
  {
   "cell_type": "code",
   "execution_count": 51,
   "metadata": {},
   "outputs": [],
   "source": [
    "def rotary_embed(\n",
    "    input: torch.Tensor \n",
    "    \n",
    "):\n",
    "    batch_size, seq_len, num_heads, hidden_size = input.shape\n",
    "    \n",
    "    sinusoidal_pos = init_sinusoidal_positional_embedding(seq_len, hidden_size) # Shape: [1,seq_len, hidden_size]\n",
    "    \n",
    "        \n",
    "    cos_pos = torch.repeat_interleave(sinusoidal_pos[..., 1::2],repeats=2, dim=-1).unsqueeze(2)# Shape: [1, seq_len,  hidden_size] cos(m theta)\n",
    "    sin_pos = torch.repeat_interleave(sinusoidal_pos[..., ::2],repeats=2, dim=-1).unsqueeze(2) # Shape: [1, seq_len,  hidden_size] sin(m theta)\n",
    "    \n",
    "    input_rerange = torch.stack((-input[..., 1::2], input[..., ::2]), dim=-1) #[ [-x2, x1],[-x4,x3], ... ]\n",
    "    input_rerange = input_rerange.reshape(input.shape) #[b,s,n,h]\n",
    "    \n",
    "    output = input*cos_pos+input_rerange*sin_pos\n",
    "    \n",
    "    return output #[batchsize,seq_len,n_head,hidden_size]\n",
    "    \n",
    " "
   ]
  },
  {
   "cell_type": "code",
   "execution_count": 52,
   "metadata": {},
   "outputs": [
    {
     "name": "stdout",
     "output_type": "stream",
     "text": [
      "torch.Size([4, 8, 256, 128])\n"
     ]
    }
   ],
   "source": [
    "q = torch.randn([4,256,8,512])\n",
    "k = torch.randn([4,128,8,512])\n",
    "q_rot = rotary_embed(q)\n",
    "k_rot = rotary_embed(k)\n",
    "\n",
    "attention = torch.einsum(\"bjnh,bknh->bnjk\",q_rot,k_rot)\n",
    "print(attention.shape) #[batchsize, n_head, query_seq_length, key_seq_length]"
   ]
  }
 ],
 "metadata": {
  "kernelspec": {
   "display_name": "confit",
   "language": "python",
   "name": "python3"
  },
  "language_info": {
   "codemirror_mode": {
    "name": "ipython",
    "version": 3
   },
   "file_extension": ".py",
   "mimetype": "text/x-python",
   "name": "python",
   "nbconvert_exporter": "python",
   "pygments_lexer": "ipython3",
   "version": "3.9.19"
  }
 },
 "nbformat": 4,
 "nbformat_minor": 2
}
